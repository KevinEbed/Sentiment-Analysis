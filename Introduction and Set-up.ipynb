{
 "cells": [
  {
   "cell_type": "code",
   "execution_count": 1,
   "id": "c3cbfa55",
   "metadata": {},
   "outputs": [],
   "source": [
    "import numpy"
   ]
  },
  {
   "cell_type": "code",
   "execution_count": 2,
   "id": "93e0448a",
   "metadata": {},
   "outputs": [],
   "source": [
    "import scipy"
   ]
  },
  {
   "cell_type": "code",
   "execution_count": 3,
   "id": "8aa59e4a",
   "metadata": {},
   "outputs": [
    {
     "ename": "AttributeError",
     "evalue": "module 'gensim.utils' has no attribute 'lemmatize'",
     "output_type": "error",
     "traceback": [
      "\u001b[1;31m---------------------------------------------------------------------------\u001b[0m",
      "\u001b[1;31mAttributeError\u001b[0m                            Traceback (most recent call last)",
      "\u001b[1;32m~\\AppData\\Local\\Temp/ipykernel_10716/2226903120.py\u001b[0m in \u001b[0;36m<module>\u001b[1;34m\u001b[0m\n\u001b[0;32m      1\u001b[0m \u001b[1;32mimport\u001b[0m \u001b[0mgensim\u001b[0m\u001b[1;33m\u001b[0m\u001b[1;33m\u001b[0m\u001b[0m\n\u001b[1;32m----> 2\u001b[1;33m \u001b[0mgensim\u001b[0m\u001b[1;33m.\u001b[0m\u001b[0mutils\u001b[0m\u001b[1;33m.\u001b[0m\u001b[0mlemmatize\u001b[0m\u001b[1;33m(\u001b[0m\u001b[1;34m\"The quick brown fox jumps over the lazy dog!\"\u001b[0m\u001b[1;33m)\u001b[0m\u001b[1;33m\u001b[0m\u001b[1;33m\u001b[0m\u001b[0m\n\u001b[0m",
      "\u001b[1;31mAttributeError\u001b[0m: module 'gensim.utils' has no attribute 'lemmatize'"
     ]
    }
   ],
   "source": [
    "import gensim\n",
    "gensim.utils.lemmatize(\"The quick brown fox jumps over the lazy dog!\")"
   ]
  },
  {
   "cell_type": "code",
   "execution_count": null,
   "id": "9aeeaaec",
   "metadata": {},
   "outputs": [],
   "source": [
    "import nltk\n",
    "nltk.download('brown')\n",
    "\n",
    "import textblob\n",
    "textblob.TextBlob(\"The quick brown fox jumps over the lazy dog!\").noun_phrases"
   ]
  },
  {
   "cell_type": "markdown",
   "id": "1ffa6723",
   "metadata": {},
   "source": [
    "If the above executes without errors, you'll see a number appear to the left of each of these cell prompts, and you're good to go!"
   ]
  },
  {
   "cell_type": "markdown",
   "id": "f59c1298",
   "metadata": {},
   "source": [
    "In case you're using [virtual evironments](http://docs.python-guide.org/en/latest/dev/virtualenvs/) (recommended), check that the right package/location was picked up by Python:"
   ]
  },
  {
   "cell_type": "code",
   "execution_count": null,
   "id": "2bad1ed0",
   "metadata": {},
   "outputs": [],
   "source": [
    "print(scipy.__version__, scipy.__file__)\n",
    "print(gensim.__version__, gensim.__file__)\n",
    "scipy.show_config()"
   ]
  },
  {
   "cell_type": "markdown",
   "id": "f528148a",
   "metadata": {},
   "source": [
    "## Check training data"
   ]
  },
  {
   "cell_type": "markdown",
   "id": "41a08327",
   "metadata": {},
   "source": [
    "Make sure you have downloaded all necessary data files (again, see the [README](https://github.com/piskvorky/topic_modeling_tutorial/)):"
   ]
  },
  {
   "cell_type": "code",
   "execution_count": null,
   "id": "052a89bc",
   "metadata": {},
   "outputs": [],
   "source": [
    "!ls -lh ./data/"
   ]
  },
  {
   "cell_type": "markdown",
   "id": "a88525cc",
   "metadata": {},
   "source": [
    "You should see at least two entries there: `simplewiki-20140623-pages-articles.xml.bz2` and `20news-bydate.tar.gz`."
   ]
  },
  {
   "cell_type": "markdown",
   "id": "02c94217",
   "metadata": {},
   "source": [
    "## Quick Python recap"
   ]
  },
  {
   "cell_type": "markdown",
   "id": "7f6001d4",
   "metadata": {},
   "source": [
    "#### Data streaming, generators, iterators"
   ]
  },
  {
   "cell_type": "markdown",
   "id": "df475515",
   "metadata": {},
   "source": [
    "Generators are a built-in way to iterate over a sequence **once**, without materializing all its elements at the same time:"
   ]
  },
  {
   "cell_type": "code",
   "execution_count": null,
   "id": "14f7b9d5",
   "metadata": {},
   "outputs": [],
   "source": [
    "def odd_numbers():\n",
    "    \"\"\"\n",
    "    Yield one odd number after another.\n",
    "    \n",
    "    Don't try to materialize its result in plain list, with `list(odd_numbers)`,\n",
    "    because the sequence is infinite and you'll run out of RAM!\n",
    "    \"\"\"\n",
    "    result = 1\n",
    "    while True:\n",
    "        yield result  # `yield` instead of `return`!\n",
    "        result += 2\n",
    "\n",
    "odd_numbers_generator = odd_numbers()\n",
    "\n",
    "for odd_number in odd_numbers_generator:\n",
    "    print(odd_number)\n",
    "    if odd_number > 10:\n",
    "        break"
   ]
  },
  {
   "cell_type": "markdown",
   "id": "5ab6bf7b",
   "metadata": {},
   "source": [
    "We'll be using this pattern of \"generate a data point, process it, forget it\" often, because it allows us to bypass RAM limitations. With generators we can process huge text corpora in constant memory, using clever algorithms that don't mind operating one-data-point-at-a-time.\n",
    "\n",
    "This is in contrast to plain Python lists, Pandas frames or even NumPy and SciPy arrays, where the entire sequence must be known beforehand and mapped into (virtual) memory fully.\n",
    "\n",
    "Generators and iterators come at a cost: since we're only allowed to go one item after another, it's not possible to skip to the middle of the sequence. Unless we take care of it manually, there's no equivalent of randomly accessing an arbitrary element ala `list`s: `some_list[100]` will work, but `some_generator[100]` won't."
   ]
  },
  {
   "cell_type": "markdown",
   "id": "8fc3a88f",
   "metadata": {},
   "source": [
    "An iterable is like a generator (memory efficient), except it can be iterated over **multiple times**. To achieve that, we override the object's special `__iter__` method (which Python calls every time we loop over the object) to return a generator:"
   ]
  },
  {
   "cell_type": "code",
   "execution_count": null,
   "id": "fadda912",
   "metadata": {},
   "outputs": [],
   "source": [
    "class OddNumbers(object):\n",
    "    def __iter__(self):\n",
    "        result = 1\n",
    "        while True:\n",
    "            yield result\n",
    "            result += 2\n",
    "\n",
    "odd_numbers_iterator = OddNumbers()\n",
    "\n",
    "for odd_number in odd_numbers_iterator:\n",
    "    print(odd_number)\n",
    "    if odd_number > 10:\n",
    "        break"
   ]
  },
  {
   "cell_type": "markdown",
   "id": "1da93eaf",
   "metadata": {},
   "source": [
    "That's all we need to know for our purposes. For more info, read [Data streaming in Python: generators, iterators, iterables](http://radimrehurek.com/2014/03/data-streaming-in-python-generators-iterators-iterables/), or [Python's documentation for \"iterator types\"](https://docs.python.org/2/library/stdtypes.html#iterator-types)."
   ]
  },
  {
   "cell_type": "markdown",
   "id": "eedf0dbf",
   "metadata": {},
   "source": [
    "#### NumPy & SciPy arrays"
   ]
  },
  {
   "cell_type": "markdown",
   "id": "d48bc1ae",
   "metadata": {},
   "source": [
    "NumPy is a 3rd party package (not built-in). **NumPy arrays are a concise and efficient way to represent a fixed-length list of numbers** (or, actually and uninterestingly for this tutorial, of any objects). Their power comes from pithy array slicing, even in multiple dimensions:"
   ]
  },
  {
   "cell_type": "code",
   "execution_count": null,
   "id": "1b61128e",
   "metadata": {},
   "outputs": [],
   "source": [
    "# create a 2D table of random numbers, with 10 rows and 5 columns\n",
    "x = numpy.random.rand(10, 5)\n",
    "\n",
    "print(x)"
   ]
  },
  {
   "cell_type": "code",
   "execution_count": null,
   "id": "b2a4e84e",
   "metadata": {},
   "outputs": [],
   "source": [
    "# print element in 3rd row and 2nd column\n",
    "print(x[2, 1])  "
   ]
  },
  {
   "cell_type": "code",
   "execution_count": null,
   "id": "929e298e",
   "metadata": {},
   "outputs": [],
   "source": [
    "# print the entire 3rd row\n",
    "print(x[2])"
   ]
  },
  {
   "cell_type": "code",
   "execution_count": null,
   "id": "df3c7f80",
   "metadata": {},
   "outputs": [],
   "source": [
    "# print the entire 2nd column\n",
    "print(x[:, 1])"
   ]
  },
  {
   "cell_type": "code",
   "execution_count": null,
   "id": "c7460ed4",
   "metadata": {},
   "outputs": [],
   "source": [
    "# print a sub-table (rectangular region), starting at [0, 0] and ending at [4, 2] (exclusive)\n",
    "print(x[:4, :2])"
   ]
  },
  {
   "cell_type": "markdown",
   "id": "226f9564",
   "metadata": {},
   "source": [
    "and the fact that the underlying implementation is written to be fast (in C, even plugging into fast BLAS where available)."
   ]
  },
  {
   "cell_type": "markdown",
   "id": "173d1adc",
   "metadata": {},
   "source": [
    "Similarly, the **3rd part SciPy package contains `scipy.sparse` arrays**, which are a way to represent vectors and matrices with assumed (implicit) zeros.\n",
    "\n",
    "`scipy.sparse` arrays are not as efficient as NumPy arrays, because they don't plug into BLAS and because their memory access patterns are more involved (cache misses). But not materializing the zeros explicitly can make a huge difference for very sparse arrays (lots of zeros). However, all non-zero values must still reside in memory, so ultimately, for large data, we still resort to generators and data streaming.\n",
    "\n",
    "A common pattern that we'll be using is **combining the efficiency of in-memory arrays** (numpy, scipy.sparse) with the **scalability of data streaming**. Instead of processing one document at a time (slow), or all documents at once (non-scalable), we'll be reading **a chunk of documents** into RAM (= as many documents as RAM allows), processing this chunk, then throwing it away and streaming a new chunk into RAM."
   ]
  },
  {
   "cell_type": "markdown",
   "id": "bcbdf9db",
   "metadata": {},
   "source": [
    "### Itertools"
   ]
  },
  {
   "cell_type": "markdown",
   "id": "9ae381e4",
   "metadata": {},
   "source": [
    "A [built-in Python library](https://docs.python.org/2/library/itertools.html) for efficient work data streams (iterables, iterators, generators):"
   ]
  },
  {
   "cell_type": "code",
   "execution_count": null,
   "id": "0f6bd488",
   "metadata": {},
   "outputs": [],
   "source": [
    "import itertools\n",
    "\n",
    "infinite_stream = OddNumbers()\n",
    "\n",
    "# compute the first 10 items (and no more) & print them\n",
    "print(list(itertools.islice(infinite_stream, 10)))\n",
    "\n",
    "# lazily concatenate streams; the result is also infinite\n",
    "concat_stream = itertools.chain('abcde', infinite_stream)\n",
    "print(list(itertools.islice(concat_stream, 10)))\n",
    "\n",
    "numbered_stream = enumerate(infinite_stream)  # also infinite\n",
    "print(list(itertools.islice(numbered_stream, 10)))\n",
    "\n",
    "# etc; see the itertools docs for more examples"
   ]
  },
  {
   "cell_type": "markdown",
   "id": "f2d91549",
   "metadata": {},
   "source": [
    "The examples above show another useful pattern: take a small sample of the stream (e.g. the first ten elements) and convert them into plain Python list, with `list(islice(stream, 10))`. To convert an entire stream into list, simply `list(stream)` (watch out for RAM here though, especially with infinite streams!). Nothing beats the simplicity of `list(stream)` for debugging purposes."
   ]
  },
  {
   "cell_type": "markdown",
   "id": "0c0c4a5f",
   "metadata": {},
   "source": [
    "## Notebooks"
   ]
  },
  {
   "cell_type": "markdown",
   "id": "46408da3",
   "metadata": {},
   "source": [
    "At any point, you can save a notebook to disk by pressing `CTRL`+`s` (or `CMD`+`s`). This will **save all changes you've made to the notebook**, including cell outputs, locally to your disk.\n",
    "\n",
    "To discard your notebook changes, simply checkout the notebook file again from git (or extract it again from the repository ZIP archive). This will reset the notebook to its original state, **losing all your changes**."
   ]
  }
 ],
 "metadata": {
  "kernelspec": {
   "display_name": "Python 3 (ipykernel)",
   "language": "python",
   "name": "python3"
  },
  "language_info": {
   "codemirror_mode": {
    "name": "ipython",
    "version": 3
   },
   "file_extension": ".py",
   "mimetype": "text/x-python",
   "name": "python",
   "nbconvert_exporter": "python",
   "pygments_lexer": "ipython3",
   "version": "3.9.7"
  }
 },
 "nbformat": 4,
 "nbformat_minor": 1
}
