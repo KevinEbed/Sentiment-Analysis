{
 "cells": [
  {
   "cell_type": "code",
   "execution_count": 1,
   "id": "462792c7",
   "metadata": {},
   "outputs": [],
   "source": [
    "import numpy as np\n",
    "from sklearn.feature_extraction.text import TfidfVectorizer\n",
    "from sklearn.decomposition import NMF\n"
   ]
  },
  {
   "cell_type": "code",
   "execution_count": 2,
   "id": "1d31f931",
   "metadata": {},
   "outputs": [],
   "source": [
    "# Sample Arabic text data\n",
    "text_data = [\n",
    "    \"أنا سعيد لأنني أستطيع التحدث باللغة العربية.\",  # I am happy that I can speak Arabic.\n",
    "    \"أحب قراءة الكتب العربية.\",  # I love reading Arabic books.\n",
    "    \"أعتقد أن اللغة العربية جميلة جدا.\",  # I think the Arabic language is very beautiful.\n",
    "    \"آمل أن أتمكن من تحسين لغتي العربية يوما ما.\",  # I hope I can improve my Arabic someday.\n",
    "    \"شكرا جزيلا على وقتك.\",  # Thank you for your time.\n",
    "]"
   ]
  },
  {
   "cell_type": "code",
   "execution_count": 3,
   "id": "56912368",
   "metadata": {},
   "outputs": [],
   "source": [
    "stop_words = [\"أنا\", \"لأن\", \"اللغة\", \"أحب\", \"أعتقد\", \"أن\", \"جدا\", \"آمل\", \"أن\", \"أتمكن\", \"من\", \"تحسين\", \"يوما\", \"شكرا\", \"جزيلا\", \"على\", \"وقتك\"]\n",
    "text_data_processed = [\n",
    "    \" \".join([word for word in text.split() if word not in stop_words])\n",
    "    for text in text_data\n",
    "]\n"
   ]
  },
  {
   "cell_type": "code",
   "execution_count": 4,
   "id": "ce99e158",
   "metadata": {},
   "outputs": [
    {
     "name": "stdout",
     "output_type": "stream",
     "text": [
      "Topic 1: العربية, الكتب, جدا, جميلة, قراءة, لغتي, ما\n",
      "Topic 2: وقتك\n",
      "Topic 3: أستطيع, التحدث, العربية, باللغة, سعيد, لأنني\n"
     ]
    }
   ],
   "source": [
    "# Vectorize the text data using TF-IDF\n",
    "vectorizer = TfidfVectorizer(max_features=100)\n",
    "tfidf_matrix = vectorizer.fit_transform(text_data_processed)\n",
    "\n",
    "# Perform NMF with 3 topics\n",
    "nmf = NMF(n_components=3, random_state=0)\n",
    "nmf_model = nmf.fit(tfidf_matrix)\n",
    "\n",
    "# Get the topic words\n",
    "topic_words = []\n",
    "for topic_idx in range(nmf.n_components):\n",
    "    topic_words.append(\n",
    "        [\n",
    "            vectorizer.get_feature_names_out()[i]\n",
    "            for i, score in enumerate(nmf_model.components_[topic_idx])\n",
    "            if score > 0.01\n",
    "        ]\n",
    "    )\n",
    "\n",
    "# Print the topics\n",
    "for topic_idx, words in enumerate(topic_words):\n",
    "    print(f\"Topic {topic_idx + 1}: {', '.join(words)}\")\n"
   ]
  },
  {
   "cell_type": "code",
   "execution_count": 5,
   "id": "afc595cd",
   "metadata": {},
   "outputs": [],
   "source": [
    "def predict_dominant_topic(text):\n",
    "  \"\"\"\n",
    "  Predicts the dominant topic for a new piece of text.\n",
    "\n",
    "  Args:\n",
    "      text: The text to predict the dominant topic for.\n",
    "\n",
    "  Returns:\n",
    "      The index of the dominant topic.\n",
    "  \"\"\"\n",
    "  # Preprocess the text\n",
    "  text_processed = \" \".join([word for word in text.split() if word not in stop_words])\n",
    "  # Vectorize the text\n",
    "  new_tfidf_vec = vectorizer.transform([text_processed])\n",
    "  # Get the document-topic distribution\n",
    "  doc_topic_dist = nmf_model.transform(new_tfidf_vec)\n",
    "  # Find the dominant topic\n",
    "  dominant_topic = np.argmax(doc_topic_dist, axis=1)\n",
    "  return dominant_topic[0]\n"
   ]
  },
  {
   "cell_type": "code",
   "execution_count": 6,
   "id": "2799bac9",
   "metadata": {},
   "outputs": [
    {
     "name": "stdout",
     "output_type": "stream",
     "text": [
      "The dominant topic for the new text is: ['العربية', 'الكتب', 'جدا', 'جميلة', 'قراءة', 'لغتي', 'ما']\n"
     ]
    }
   ],
   "source": [
    "# Example usage\n",
    "new_text = \"أنا أستمتع بتعلم اللغة العربية.\"  # I enjoy learning Arabic.\n",
    "dominant_topic_index = predict_dominant_topic(new_text)\n",
    "print(f\"The dominant topic for the new text is: {topic_words[dominant_topic_index]}\")"
   ]
  },
  {
   "cell_type": "code",
   "execution_count": null,
   "id": "945f2c7c",
   "metadata": {},
   "outputs": [],
   "source": []
  }
 ],
 "metadata": {
  "kernelspec": {
   "display_name": "Python 3 (ipykernel)",
   "language": "python",
   "name": "python3"
  },
  "language_info": {
   "codemirror_mode": {
    "name": "ipython",
    "version": 3
   },
   "file_extension": ".py",
   "mimetype": "text/x-python",
   "name": "python",
   "nbconvert_exporter": "python",
   "pygments_lexer": "ipython3",
   "version": "3.9.7"
  }
 },
 "nbformat": 4,
 "nbformat_minor": 5
}
