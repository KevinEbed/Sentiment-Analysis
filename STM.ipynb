{
 "cells": [
  {
   "cell_type": "code",
   "execution_count": 1,
   "id": "d671fa0f",
   "metadata": {},
   "outputs": [
    {
     "name": "stdout",
     "output_type": "stream",
     "text": [
      "Collecting stmNote: you may need to restart the kernel to use updated packages.\n"
     ]
    },
    {
     "name": "stderr",
     "output_type": "stream",
     "text": [
      "WARNING: Ignoring invalid distribution -qdm (c:\\users\\m7mds\\anaconda3\\lib\\site-packages)\n",
      "WARNING: Ignoring invalid distribution -qdm (c:\\users\\m7mds\\anaconda3\\lib\\site-packages)\n",
      "WARNING: Ignoring invalid distribution -qdm (c:\\users\\m7mds\\anaconda3\\lib\\site-packages)\n",
      "WARNING: Ignoring invalid distribution -qdm (c:\\users\\m7mds\\anaconda3\\lib\\site-packages)\n",
      "WARNING: Ignoring invalid distribution -qdm (c:\\users\\m7mds\\anaconda3\\lib\\site-packages)\n",
      "WARNING: Ignoring invalid distribution -qdm (c:\\users\\m7mds\\anaconda3\\lib\\site-packages)\n",
      "WARNING: Ignoring invalid distribution -qdm (c:\\users\\m7mds\\anaconda3\\lib\\site-packages)\n",
      "WARNING: Ignoring invalid distribution -qdm (c:\\users\\m7mds\\anaconda3\\lib\\site-packages)\n"
     ]
    },
    {
     "name": "stdout",
     "output_type": "stream",
     "text": [
      "\n",
      "  Downloading stm-0.2.7.tar.gz (18 kB)\n",
      "Collecting ttftree\n",
      "  Downloading ttftree-0.2.4.tar.gz (9.1 kB)\n",
      "Requirement already satisfied: six in c:\\users\\m7mds\\anaconda3\\lib\\site-packages (from stm) (1.16.0)\n",
      "Building wheels for collected packages: stm, ttftree\n",
      "  Building wheel for stm (setup.py): started\n",
      "  Building wheel for stm (setup.py): finished with status 'done'\n",
      "  Created wheel for stm: filename=stm-0.2.7-py3-none-any.whl size=20019 sha256=2fde3fcd1f9b55a3a1f59183d87b720b052e07bde01167b387a380de1fc6104c\n",
      "  Stored in directory: c:\\users\\m7mds\\appdata\\local\\pip\\cache\\wheels\\95\\33\\f5\\fc5bbfec129123f932147e87087791deb0f05e4669c1c94889\n",
      "  Building wheel for ttftree (setup.py): started\n",
      "  Building wheel for ttftree (setup.py): finished with status 'done'\n",
      "  Created wheel for ttftree: filename=ttftree-0.2.4-py3-none-any.whl size=9410 sha256=5853e7ad9bca2f9490df96ec60cad47f36d1a6fc87b7e32415511dce93a31509\n",
      "  Stored in directory: c:\\users\\m7mds\\appdata\\local\\pip\\cache\\wheels\\0c\\1a\\a8\\2cc3a97c1848f22b9b1ad0c847422f71d5ec65ac87a91b20e7\n",
      "Successfully built stm ttftree\n",
      "Installing collected packages: ttftree, stm\n",
      "Successfully installed stm-0.2.7 ttftree-0.2.4\n"
     ]
    }
   ],
   "source": [
    "pip install stm"
   ]
  },
  {
   "cell_type": "code",
   "execution_count": null,
   "id": "60c0b17c",
   "metadata": {},
   "outputs": [],
   "source": [
    "import stm\n",
    "import pandas as pd\n",
    "\n",
    "# Load your data\n",
    "df = pd.read_csv('your_file.csv')\n",
    "\n",
    "# Initialize the STM model\n",
    "model = stm.STModel(\n",
    "    num_topics=3,\n",
    "    id2word=dictionary,\n",
    "    corpus=df['text'].values,\n",
    "    num_iterations=100,\n",
    "    alpha=0.01,\n",
    "    eta=0.01,\n",
    "    random_seed=42,\n",
    ")\n",
    "\n",
    "# Fit the model\n",
    "model.fit()\n",
    "\n",
    "# Get the topics\n",
    "topics = model.get_topics()\n",
    "\n",
    "# Print the topics\n",
    "for topic in topics:\n",
    "    print(topic.name)\n",
    "    print(topic.words)"
   ]
  }
 ],
 "metadata": {
  "kernelspec": {
   "display_name": "Python 3 (ipykernel)",
   "language": "python",
   "name": "python3"
  },
  "language_info": {
   "codemirror_mode": {
    "name": "ipython",
    "version": 3
   },
   "file_extension": ".py",
   "mimetype": "text/x-python",
   "name": "python",
   "nbconvert_exporter": "python",
   "pygments_lexer": "ipython3",
   "version": "3.9.7"
  }
 },
 "nbformat": 4,
 "nbformat_minor": 5
}
