{
 "cells": [
  {
   "cell_type": "code",
   "execution_count": 5,
   "id": "4f0cfd2c",
   "metadata": {},
   "outputs": [],
   "source": [
    "import numpy as np\n",
    "from sklearn.feature_extraction.text import TfidfVectorizer\n",
    "from sklearn.decomposition import NMF\n",
    "from nltk.corpus import stopwords\n",
    "from nltk.tokenize import word_tokenize\n",
    "import re\n"
   ]
  },
  {
   "cell_type": "code",
   "execution_count": 6,
   "id": "2215ac0b",
   "metadata": {},
   "outputs": [],
   "source": [
    "def preprocess_text(text):\n",
    "    # Remove punctuations and non-Arabic characters\n",
    "    text = re.sub(r'[^\\u0600-\\u06FF\\s]', '', text)\n",
    "    # Tokenize the text\n",
    "    tokens = word_tokenize(text)\n",
    "    # Join tokens back into text\n",
    "    processed_text = ' '.join(tokens)\n",
    "    return processed_text\n"
   ]
  },
  {
   "cell_type": "code",
   "execution_count": 15,
   "id": "b9e1d0d2",
   "metadata": {},
   "outputs": [],
   "source": [
    "def main_topic(text, num_topics=1):\n",
    "    # Preprocess the text\n",
    "    processed_text = preprocess_text(text)\n",
    "\n",
    "    # Vectorize the text using TF-IDF\n",
    "    tfidf_vectorizer = TfidfVectorizer(max_df=1.0, min_df=1)\n",
    "    tfidf = tfidf_vectorizer.fit_transform([processed_text])\n",
    "\n",
    "    # Apply NMF for topic modeling\n",
    "    nmf_model = NMF(n_components=num_topics, random_state=42)\n",
    "    nmf_model.fit(tfidf)\n",
    "\n",
    "    # Get the main topic\n",
    "    feature_names = tfidf_vectorizer.get_feature_names_out()\n",
    "    topic_words = [feature_names[i] for i in nmf_model.components_[0].argsort()[:-10 - 1:-1]]\n",
    "    main_topic = ' '.join(topic_words)\n",
    "\n",
    "    return main_topic\n"
   ]
  },
  {
   "cell_type": "code",
   "execution_count": 16,
   "id": "682669de",
   "metadata": {},
   "outputs": [
    {
     "name": "stdout",
     "output_type": "stream",
     "text": [
      "Main topic: يجب يسعى إلى الاقتصادية التحديات التضامن التنمية العالم العربي العمل\n"
     ]
    },
    {
     "name": "stderr",
     "output_type": "stream",
     "text": [
      "C:\\Users\\m7mds\\anaconda3\\lib\\site-packages\\sklearn\\decomposition\\_nmf.py:1770: ConvergenceWarning: Maximum number of iterations 200 reached. Increase it to improve convergence.\n",
      "  warnings.warn(\n"
     ]
    }
   ],
   "source": [
    "if __name__ == \"__main__\":\n",
    "    # Example text\n",
    "    arabic_text = \"\"\"\n",
    "    يجب على العالم العربي أن يسعى إلى التضامن والتعاون في مواجهة التحديات الاقتصادية والاجتماعية.\n",
    "    يجب علينا العمل معًا لتحقيق التنمية المستدامة وتحسين جودة حياة الناس.\n",
    "    \"\"\"\n",
    "\n",
    "    # Get the main topic\n",
    "    topic = main_topic(arabic_text)\n",
    "    print(\"Main topic:\", topic)"
   ]
  },
  {
   "cell_type": "code",
   "execution_count": null,
   "id": "8eb08b25",
   "metadata": {},
   "outputs": [],
   "source": []
  }
 ],
 "metadata": {
  "kernelspec": {
   "display_name": "Python 3 (ipykernel)",
   "language": "python",
   "name": "python3"
  },
  "language_info": {
   "codemirror_mode": {
    "name": "ipython",
    "version": 3
   },
   "file_extension": ".py",
   "mimetype": "text/x-python",
   "name": "python",
   "nbconvert_exporter": "python",
   "pygments_lexer": "ipython3",
   "version": "3.9.7"
  }
 },
 "nbformat": 4,
 "nbformat_minor": 5
}
