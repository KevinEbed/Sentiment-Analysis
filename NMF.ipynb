{
 "cells": [
  {
   "cell_type": "code",
   "execution_count": null,
   "id": "38444cd8",
   "metadata": {},
   "outputs": [],
   "source": [
    "import gensim\n",
    "import pandas as pd\n",
    "\n",
    "# Load your data\n",
    "df = pd.read_csv('your_file.csv')\n",
    "\n",
    "# Preprocess the text data\n",
    "text_data = [doc.split() for doc in df['text']]\n",
    "\n",
    "# Create a dictionary and a corpus\n",
    "dictionary = gensim.corpora.Dictionary(text_data)\n",
    "corpus = [dictionary.doc2bow(doc) for doc in text_data]\n",
    "\n",
    "# Convert the corpus to a document-term matrix\n",
    "dtm = gensim.matutils.corpus2dense(corpus, num_terms=len(dictionary)).T\n",
    "\n",
    "# Initialize the NMF model\n",
    "nmf = gensim.models.Nmf(dtm, num_topics=3, random_state=42)\n",
    "\n",
    "# Train the NMF model\n",
    "nmf.fit(100)\n",
    "\n",
    "# Extract the topics\n",
    "topics = nmf.components_\n",
    "\n",
    "# Print the topics\n",
    "for topic in topics:\n",
    "    print(topic)"
   ]
  }
 ],
 "metadata": {
  "kernelspec": {
   "display_name": "Python 3 (ipykernel)",
   "language": "python",
   "name": "python3"
  },
  "language_info": {
   "codemirror_mode": {
    "name": "ipython",
    "version": 3
   },
   "file_extension": ".py",
   "mimetype": "text/x-python",
   "name": "python",
   "nbconvert_exporter": "python",
   "pygments_lexer": "ipython3",
   "version": "3.9.7"
  }
 },
 "nbformat": 4,
 "nbformat_minor": 5
}
